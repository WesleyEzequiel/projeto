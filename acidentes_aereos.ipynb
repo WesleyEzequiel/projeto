{
  "nbformat": 4,
  "nbformat_minor": 0,
  "metadata": {
    "colab": {
      "name": "acidentes_aereos.ipynb",
      "provenance": [],
      "collapsed_sections": [],
      "include_colab_link": true
    },
    "kernelspec": {
      "name": "python3",
      "display_name": "Python 3"
    },
    "language_info": {
      "name": "python"
    }
  },
  "cells": [
    {
      "cell_type": "markdown",
      "metadata": {
        "id": "view-in-github",
        "colab_type": "text"
      },
      "source": [
        "<a href=\"https://colab.research.google.com/github/WesleyEzequiel/projeto/blob/main/acidentes_aereos.ipynb\" target=\"_parent\"><img src=\"https://colab.research.google.com/assets/colab-badge.svg\" alt=\"Open In Colab\"/></a>"
      ]
    },
    {
      "cell_type": "code",
      "execution_count": null,
      "metadata": {
        "id": "rXqbNy6NMoWg"
      },
      "outputs": [],
      "source": [
        "import pandas as pd # A biblioteca Pandas é uma biblioteca Python para análise de dados. Ultilizada para criar Dataframes\n",
        "import matplotlib.pyplot as plt  #Biblioteca com recursos para a geração de gráficos 2D a partir de arrays.\n",
        "%matplotlib inline  \n",
        "#permite que os graficos sejam criados na aba atual\n",
        "import seaborn as sns # biblioteca de visualização para plotagem de gráficos estatísticos em Python.\n",
        "import numpy as np # biblioteca de código aberto destinada a realizar operações em arrays multidimensionais.\n",
        "from collections import Counter #Counter é uma subclasse de dict subclass para contagem de objetos hasheáveis. É uma coleção na qual elementos são armazenados como chaves de dicionário e suas contagens são armazenadas como valores de dicionário\n",
        "import statistics as static # scipy é um pacote que contém várias ferramentas dedicadas a problemas comuns em computação científica."
      ]
    },
    {
      "cell_type": "code",
      "source": [
        "#importação dos dados\n",
        "ae = pd.read_csv('/content/ocorrencias_cenipa.csv - ocorrencias_cenipa.csv.csv', index_col=0)"
      ],
      "metadata": {
        "id": "hzU-fS0sMzHU"
      },
      "execution_count": null,
      "outputs": []
    },
    {
      "cell_type": "code",
      "source": [
        "# analise das informações dos dados\n",
        "ae.info()"
      ],
      "metadata": {
        "colab": {
          "base_uri": "https://localhost:8080/"
        },
        "id": "PGAUBeGGM13M",
        "outputId": "d84a99aa-42a2-44c8-8113-3e2bc147ef3f"
      },
      "execution_count": null,
      "outputs": [
        {
          "output_type": "stream",
          "name": "stdout",
          "text": [
            "<class 'pandas.core.frame.DataFrame'>\n",
            "Int64Index: 5242 entries, 40107 to 79227\n",
            "Data columns (total 20 columns):\n",
            " #   Column                     Non-Null Count  Dtype \n",
            "---  ------                     --------------  ----- \n",
            " 0   tipo                       5242 non-null   object\n",
            " 1   descricao                  5242 non-null   object\n",
            " 2   cidade                     5242 non-null   object\n",
            " 3   estado                     5242 non-null   object\n",
            " 4   data                       5242 non-null   object\n",
            " 5   ano                        5242 non-null   int64 \n",
            " 6   hora                       5242 non-null   object\n",
            " 7   aeronave_liberada          5242 non-null   object\n",
            " 8   status_investigacao        5242 non-null   object\n",
            " 9   aeronaves_envolvidas       5242 non-null   int64 \n",
            " 10  ocorrencia_saida_pista     5242 non-null   object\n",
            " 11  aeronave_tipo              5242 non-null   object\n",
            " 12  aeronave_fabricante        5242 non-null   object\n",
            " 13  motor_tipo                 5242 non-null   object\n",
            " 14  aeronave_motor_quantidade  5242 non-null   object\n",
            " 15  aeronave_assentos          5242 non-null   int64 \n",
            " 16  aeronave_ano_fabricacao    5242 non-null   int64 \n",
            " 17  aeronave_pais_fabricante   5242 non-null   object\n",
            " 18  aeronave_fase_operacao     5242 non-null   object\n",
            " 19  aeronave_nivel_dano        5242 non-null   object\n",
            "dtypes: int64(4), object(16)\n",
            "memory usage: 860.0+ KB\n"
          ]
        }
      ]
    },
    {
      "cell_type": "code",
      "source": [
        "ae.describe()"
      ],
      "metadata": {
        "id": "DgCdulksOmbz",
        "colab": {
          "base_uri": "https://localhost:8080/",
          "height": 300
        },
        "outputId": "bccf6645-524e-4158-f435-c4c72b7ab6fc"
      },
      "execution_count": null,
      "outputs": [
        {
          "output_type": "execute_result",
          "data": {
            "text/plain": [
              "               ano  aeronaves_envolvidas  aeronave_assentos  \\\n",
              "count  5242.000000           5242.000000        5242.000000   \n",
              "mean   2014.180847              1.011828          27.575353   \n",
              "std       2.849750              0.111593          54.528085   \n",
              "min    2010.000000              1.000000           0.000000   \n",
              "25%    2012.000000              1.000000           2.000000   \n",
              "50%    2014.000000              1.000000           6.000000   \n",
              "75%    2017.000000              1.000000          10.000000   \n",
              "max    2019.000000              3.000000         384.000000   \n",
              "\n",
              "       aeronave_ano_fabricacao  \n",
              "count              5242.000000  \n",
              "mean               1863.320870  \n",
              "std                 507.051481  \n",
              "min                   0.000000  \n",
              "25%                1978.000000  \n",
              "50%                1992.000000  \n",
              "75%                2007.000000  \n",
              "max                9999.000000  "
            ],
            "text/html": [
              "\n",
              "  <div id=\"df-353888c0-fce4-4cfb-bc95-b243914f3a4e\">\n",
              "    <div class=\"colab-df-container\">\n",
              "      <div>\n",
              "<style scoped>\n",
              "    .dataframe tbody tr th:only-of-type {\n",
              "        vertical-align: middle;\n",
              "    }\n",
              "\n",
              "    .dataframe tbody tr th {\n",
              "        vertical-align: top;\n",
              "    }\n",
              "\n",
              "    .dataframe thead th {\n",
              "        text-align: right;\n",
              "    }\n",
              "</style>\n",
              "<table border=\"1\" class=\"dataframe\">\n",
              "  <thead>\n",
              "    <tr style=\"text-align: right;\">\n",
              "      <th></th>\n",
              "      <th>ano</th>\n",
              "      <th>aeronaves_envolvidas</th>\n",
              "      <th>aeronave_assentos</th>\n",
              "      <th>aeronave_ano_fabricacao</th>\n",
              "    </tr>\n",
              "  </thead>\n",
              "  <tbody>\n",
              "    <tr>\n",
              "      <th>count</th>\n",
              "      <td>5242.000000</td>\n",
              "      <td>5242.000000</td>\n",
              "      <td>5242.000000</td>\n",
              "      <td>5242.000000</td>\n",
              "    </tr>\n",
              "    <tr>\n",
              "      <th>mean</th>\n",
              "      <td>2014.180847</td>\n",
              "      <td>1.011828</td>\n",
              "      <td>27.575353</td>\n",
              "      <td>1863.320870</td>\n",
              "    </tr>\n",
              "    <tr>\n",
              "      <th>std</th>\n",
              "      <td>2.849750</td>\n",
              "      <td>0.111593</td>\n",
              "      <td>54.528085</td>\n",
              "      <td>507.051481</td>\n",
              "    </tr>\n",
              "    <tr>\n",
              "      <th>min</th>\n",
              "      <td>2010.000000</td>\n",
              "      <td>1.000000</td>\n",
              "      <td>0.000000</td>\n",
              "      <td>0.000000</td>\n",
              "    </tr>\n",
              "    <tr>\n",
              "      <th>25%</th>\n",
              "      <td>2012.000000</td>\n",
              "      <td>1.000000</td>\n",
              "      <td>2.000000</td>\n",
              "      <td>1978.000000</td>\n",
              "    </tr>\n",
              "    <tr>\n",
              "      <th>50%</th>\n",
              "      <td>2014.000000</td>\n",
              "      <td>1.000000</td>\n",
              "      <td>6.000000</td>\n",
              "      <td>1992.000000</td>\n",
              "    </tr>\n",
              "    <tr>\n",
              "      <th>75%</th>\n",
              "      <td>2017.000000</td>\n",
              "      <td>1.000000</td>\n",
              "      <td>10.000000</td>\n",
              "      <td>2007.000000</td>\n",
              "    </tr>\n",
              "    <tr>\n",
              "      <th>max</th>\n",
              "      <td>2019.000000</td>\n",
              "      <td>3.000000</td>\n",
              "      <td>384.000000</td>\n",
              "      <td>9999.000000</td>\n",
              "    </tr>\n",
              "  </tbody>\n",
              "</table>\n",
              "</div>\n",
              "      <button class=\"colab-df-convert\" onclick=\"convertToInteractive('df-353888c0-fce4-4cfb-bc95-b243914f3a4e')\"\n",
              "              title=\"Convert this dataframe to an interactive table.\"\n",
              "              style=\"display:none;\">\n",
              "        \n",
              "  <svg xmlns=\"http://www.w3.org/2000/svg\" height=\"24px\"viewBox=\"0 0 24 24\"\n",
              "       width=\"24px\">\n",
              "    <path d=\"M0 0h24v24H0V0z\" fill=\"none\"/>\n",
              "    <path d=\"M18.56 5.44l.94 2.06.94-2.06 2.06-.94-2.06-.94-.94-2.06-.94 2.06-2.06.94zm-11 1L8.5 8.5l.94-2.06 2.06-.94-2.06-.94L8.5 2.5l-.94 2.06-2.06.94zm10 10l.94 2.06.94-2.06 2.06-.94-2.06-.94-.94-2.06-.94 2.06-2.06.94z\"/><path d=\"M17.41 7.96l-1.37-1.37c-.4-.4-.92-.59-1.43-.59-.52 0-1.04.2-1.43.59L10.3 9.45l-7.72 7.72c-.78.78-.78 2.05 0 2.83L4 21.41c.39.39.9.59 1.41.59.51 0 1.02-.2 1.41-.59l7.78-7.78 2.81-2.81c.8-.78.8-2.07 0-2.86zM5.41 20L4 18.59l7.72-7.72 1.47 1.35L5.41 20z\"/>\n",
              "  </svg>\n",
              "      </button>\n",
              "      \n",
              "  <style>\n",
              "    .colab-df-container {\n",
              "      display:flex;\n",
              "      flex-wrap:wrap;\n",
              "      gap: 12px;\n",
              "    }\n",
              "\n",
              "    .colab-df-convert {\n",
              "      background-color: #E8F0FE;\n",
              "      border: none;\n",
              "      border-radius: 50%;\n",
              "      cursor: pointer;\n",
              "      display: none;\n",
              "      fill: #1967D2;\n",
              "      height: 32px;\n",
              "      padding: 0 0 0 0;\n",
              "      width: 32px;\n",
              "    }\n",
              "\n",
              "    .colab-df-convert:hover {\n",
              "      background-color: #E2EBFA;\n",
              "      box-shadow: 0px 1px 2px rgba(60, 64, 67, 0.3), 0px 1px 3px 1px rgba(60, 64, 67, 0.15);\n",
              "      fill: #174EA6;\n",
              "    }\n",
              "\n",
              "    [theme=dark] .colab-df-convert {\n",
              "      background-color: #3B4455;\n",
              "      fill: #D2E3FC;\n",
              "    }\n",
              "\n",
              "    [theme=dark] .colab-df-convert:hover {\n",
              "      background-color: #434B5C;\n",
              "      box-shadow: 0px 1px 3px 1px rgba(0, 0, 0, 0.15);\n",
              "      filter: drop-shadow(0px 1px 2px rgba(0, 0, 0, 0.3));\n",
              "      fill: #FFFFFF;\n",
              "    }\n",
              "  </style>\n",
              "\n",
              "      <script>\n",
              "        const buttonEl =\n",
              "          document.querySelector('#df-353888c0-fce4-4cfb-bc95-b243914f3a4e button.colab-df-convert');\n",
              "        buttonEl.style.display =\n",
              "          google.colab.kernel.accessAllowed ? 'block' : 'none';\n",
              "\n",
              "        async function convertToInteractive(key) {\n",
              "          const element = document.querySelector('#df-353888c0-fce4-4cfb-bc95-b243914f3a4e');\n",
              "          const dataTable =\n",
              "            await google.colab.kernel.invokeFunction('convertToInteractive',\n",
              "                                                     [key], {});\n",
              "          if (!dataTable) return;\n",
              "\n",
              "          const docLinkHtml = 'Like what you see? Visit the ' +\n",
              "            '<a target=\"_blank\" href=https://colab.research.google.com/notebooks/data_table.ipynb>data table notebook</a>'\n",
              "            + ' to learn more about interactive tables.';\n",
              "          element.innerHTML = '';\n",
              "          dataTable['output_type'] = 'display_data';\n",
              "          await google.colab.output.renderOutput(dataTable, element);\n",
              "          const docLink = document.createElement('div');\n",
              "          docLink.innerHTML = docLinkHtml;\n",
              "          element.appendChild(docLink);\n",
              "        }\n",
              "      </script>\n",
              "    </div>\n",
              "  </div>\n",
              "  "
            ]
          },
          "metadata": {},
          "execution_count": 79
        }
      ]
    },
    {
      "cell_type": "code",
      "source": [
        "ae.head()"
      ],
      "metadata": {
        "colab": {
          "base_uri": "https://localhost:8080/",
          "height": 475
        },
        "id": "iFJVukfYBbtE",
        "outputId": "671de2c4-bc05-418d-f65b-56415a42d6fc"
      },
      "execution_count": null,
      "outputs": [
        {
          "output_type": "execute_result",
          "data": {
            "text/plain": [
              "                   tipo                                          descricao  \\\n",
              "codigo                                                                       \n",
              "40107          ACIDENTE  COLISÃO COM OBSTÁCULO DURANTE A DECOLAGEM E POUSO   \n",
              "40147          ACIDENTE  FALHA OU MAU FUNCIONAMENTO DE SISTEMA / COMPON...   \n",
              "40148          ACIDENTE                                          PANE SECA   \n",
              "40149          ACIDENTE                              FALHA DO MOTOR EM VOO   \n",
              "40150   INCIDENTE GRAVE                                  COM TREM DE POUSO   \n",
              "\n",
              "                  cidade estado        data   ano      hora aeronave_liberada  \\\n",
              "codigo                                                                          \n",
              "40107             GURUPÁ     PA  2010-01-12  2010  14:30:00               SIM   \n",
              "40147   UNIÃO DA VITÓRIA     PR  2010-04-08  2010  14:20:00               SIM   \n",
              "40148       CAMPO GRANDE     MS  2010-03-19  2010  19:30:00               SIM   \n",
              "40149           LUZIÂNIA     GO  2010-03-21  2010  20:45:00               SIM   \n",
              "40150        SANTA MARIA     RS  2010-03-10  2010  17:20:00               SIM   \n",
              "\n",
              "       status_investigacao  aeronaves_envolvidas ocorrencia_saida_pista  \\\n",
              "codigo                                                                    \n",
              "40107           FINALIZADA                     1                    NÃO   \n",
              "40147           FINALIZADA                     1                    SIM   \n",
              "40148           FINALIZADA                     1                    NÃO   \n",
              "40149           FINALIZADA                     1                    NÃO   \n",
              "40150           FINALIZADA                     1                    NÃO   \n",
              "\n",
              "       aeronave_tipo          aeronave_fabricante motor_tipo  \\\n",
              "codigo                                                         \n",
              "40107          AVIÃO  NEIVA INDUSTRIA AERONAUTICA     PISTÃO   \n",
              "40147          AVIÃO               PIPER AIRCRAFT     PISTÃO   \n",
              "40148          AVIÃO              CESSNA AIRCRAFT     PISTÃO   \n",
              "40149          AVIÃO                      XAVANTE     PISTÃO   \n",
              "40150          AVIÃO               BEECH AIRCRAFT     PISTÃO   \n",
              "\n",
              "       aeronave_motor_quantidade  aeronave_assentos  aeronave_ano_fabricacao  \\\n",
              "codigo                                                                         \n",
              "40107                  MONOMOTOR                  7                     1977   \n",
              "40147                    BIMOTOR                  6                     1997   \n",
              "40148                  MONOMOTOR                  6                     1962   \n",
              "40149                  MONOMOTOR                  2                     1974   \n",
              "40150                  MONOMOTOR                  6                     1974   \n",
              "\n",
              "       aeronave_pais_fabricante aeronave_fase_operacao aeronave_nivel_dano  \n",
              "codigo                                                                      \n",
              "40107                    BRASIL                  POUSO                LEVE  \n",
              "40147                    BRASIL                  POUSO         SUBSTANCIAL  \n",
              "40148                    BRASIL      APROXIMAÇÃO FINAL         SUBSTANCIAL  \n",
              "40149                    BRASIL              DECOLAGEM           DESTRUÍDA  \n",
              "40150                    BRASIL                  POUSO                LEVE  "
            ],
            "text/html": [
              "\n",
              "  <div id=\"df-429d4487-0b78-4e03-bacc-531d54c2f3c8\">\n",
              "    <div class=\"colab-df-container\">\n",
              "      <div>\n",
              "<style scoped>\n",
              "    .dataframe tbody tr th:only-of-type {\n",
              "        vertical-align: middle;\n",
              "    }\n",
              "\n",
              "    .dataframe tbody tr th {\n",
              "        vertical-align: top;\n",
              "    }\n",
              "\n",
              "    .dataframe thead th {\n",
              "        text-align: right;\n",
              "    }\n",
              "</style>\n",
              "<table border=\"1\" class=\"dataframe\">\n",
              "  <thead>\n",
              "    <tr style=\"text-align: right;\">\n",
              "      <th></th>\n",
              "      <th>tipo</th>\n",
              "      <th>descricao</th>\n",
              "      <th>cidade</th>\n",
              "      <th>estado</th>\n",
              "      <th>data</th>\n",
              "      <th>ano</th>\n",
              "      <th>hora</th>\n",
              "      <th>aeronave_liberada</th>\n",
              "      <th>status_investigacao</th>\n",
              "      <th>aeronaves_envolvidas</th>\n",
              "      <th>ocorrencia_saida_pista</th>\n",
              "      <th>aeronave_tipo</th>\n",
              "      <th>aeronave_fabricante</th>\n",
              "      <th>motor_tipo</th>\n",
              "      <th>aeronave_motor_quantidade</th>\n",
              "      <th>aeronave_assentos</th>\n",
              "      <th>aeronave_ano_fabricacao</th>\n",
              "      <th>aeronave_pais_fabricante</th>\n",
              "      <th>aeronave_fase_operacao</th>\n",
              "      <th>aeronave_nivel_dano</th>\n",
              "    </tr>\n",
              "    <tr>\n",
              "      <th>codigo</th>\n",
              "      <th></th>\n",
              "      <th></th>\n",
              "      <th></th>\n",
              "      <th></th>\n",
              "      <th></th>\n",
              "      <th></th>\n",
              "      <th></th>\n",
              "      <th></th>\n",
              "      <th></th>\n",
              "      <th></th>\n",
              "      <th></th>\n",
              "      <th></th>\n",
              "      <th></th>\n",
              "      <th></th>\n",
              "      <th></th>\n",
              "      <th></th>\n",
              "      <th></th>\n",
              "      <th></th>\n",
              "      <th></th>\n",
              "      <th></th>\n",
              "    </tr>\n",
              "  </thead>\n",
              "  <tbody>\n",
              "    <tr>\n",
              "      <th>40107</th>\n",
              "      <td>ACIDENTE</td>\n",
              "      <td>COLISÃO COM OBSTÁCULO DURANTE A DECOLAGEM E POUSO</td>\n",
              "      <td>GURUPÁ</td>\n",
              "      <td>PA</td>\n",
              "      <td>2010-01-12</td>\n",
              "      <td>2010</td>\n",
              "      <td>14:30:00</td>\n",
              "      <td>SIM</td>\n",
              "      <td>FINALIZADA</td>\n",
              "      <td>1</td>\n",
              "      <td>NÃO</td>\n",
              "      <td>AVIÃO</td>\n",
              "      <td>NEIVA INDUSTRIA AERONAUTICA</td>\n",
              "      <td>PISTÃO</td>\n",
              "      <td>MONOMOTOR</td>\n",
              "      <td>7</td>\n",
              "      <td>1977</td>\n",
              "      <td>BRASIL</td>\n",
              "      <td>POUSO</td>\n",
              "      <td>LEVE</td>\n",
              "    </tr>\n",
              "    <tr>\n",
              "      <th>40147</th>\n",
              "      <td>ACIDENTE</td>\n",
              "      <td>FALHA OU MAU FUNCIONAMENTO DE SISTEMA / COMPON...</td>\n",
              "      <td>UNIÃO DA VITÓRIA</td>\n",
              "      <td>PR</td>\n",
              "      <td>2010-04-08</td>\n",
              "      <td>2010</td>\n",
              "      <td>14:20:00</td>\n",
              "      <td>SIM</td>\n",
              "      <td>FINALIZADA</td>\n",
              "      <td>1</td>\n",
              "      <td>SIM</td>\n",
              "      <td>AVIÃO</td>\n",
              "      <td>PIPER AIRCRAFT</td>\n",
              "      <td>PISTÃO</td>\n",
              "      <td>BIMOTOR</td>\n",
              "      <td>6</td>\n",
              "      <td>1997</td>\n",
              "      <td>BRASIL</td>\n",
              "      <td>POUSO</td>\n",
              "      <td>SUBSTANCIAL</td>\n",
              "    </tr>\n",
              "    <tr>\n",
              "      <th>40148</th>\n",
              "      <td>ACIDENTE</td>\n",
              "      <td>PANE SECA</td>\n",
              "      <td>CAMPO GRANDE</td>\n",
              "      <td>MS</td>\n",
              "      <td>2010-03-19</td>\n",
              "      <td>2010</td>\n",
              "      <td>19:30:00</td>\n",
              "      <td>SIM</td>\n",
              "      <td>FINALIZADA</td>\n",
              "      <td>1</td>\n",
              "      <td>NÃO</td>\n",
              "      <td>AVIÃO</td>\n",
              "      <td>CESSNA AIRCRAFT</td>\n",
              "      <td>PISTÃO</td>\n",
              "      <td>MONOMOTOR</td>\n",
              "      <td>6</td>\n",
              "      <td>1962</td>\n",
              "      <td>BRASIL</td>\n",
              "      <td>APROXIMAÇÃO FINAL</td>\n",
              "      <td>SUBSTANCIAL</td>\n",
              "    </tr>\n",
              "    <tr>\n",
              "      <th>40149</th>\n",
              "      <td>ACIDENTE</td>\n",
              "      <td>FALHA DO MOTOR EM VOO</td>\n",
              "      <td>LUZIÂNIA</td>\n",
              "      <td>GO</td>\n",
              "      <td>2010-03-21</td>\n",
              "      <td>2010</td>\n",
              "      <td>20:45:00</td>\n",
              "      <td>SIM</td>\n",
              "      <td>FINALIZADA</td>\n",
              "      <td>1</td>\n",
              "      <td>NÃO</td>\n",
              "      <td>AVIÃO</td>\n",
              "      <td>XAVANTE</td>\n",
              "      <td>PISTÃO</td>\n",
              "      <td>MONOMOTOR</td>\n",
              "      <td>2</td>\n",
              "      <td>1974</td>\n",
              "      <td>BRASIL</td>\n",
              "      <td>DECOLAGEM</td>\n",
              "      <td>DESTRUÍDA</td>\n",
              "    </tr>\n",
              "    <tr>\n",
              "      <th>40150</th>\n",
              "      <td>INCIDENTE GRAVE</td>\n",
              "      <td>COM TREM DE POUSO</td>\n",
              "      <td>SANTA MARIA</td>\n",
              "      <td>RS</td>\n",
              "      <td>2010-03-10</td>\n",
              "      <td>2010</td>\n",
              "      <td>17:20:00</td>\n",
              "      <td>SIM</td>\n",
              "      <td>FINALIZADA</td>\n",
              "      <td>1</td>\n",
              "      <td>NÃO</td>\n",
              "      <td>AVIÃO</td>\n",
              "      <td>BEECH AIRCRAFT</td>\n",
              "      <td>PISTÃO</td>\n",
              "      <td>MONOMOTOR</td>\n",
              "      <td>6</td>\n",
              "      <td>1974</td>\n",
              "      <td>BRASIL</td>\n",
              "      <td>POUSO</td>\n",
              "      <td>LEVE</td>\n",
              "    </tr>\n",
              "  </tbody>\n",
              "</table>\n",
              "</div>\n",
              "      <button class=\"colab-df-convert\" onclick=\"convertToInteractive('df-429d4487-0b78-4e03-bacc-531d54c2f3c8')\"\n",
              "              title=\"Convert this dataframe to an interactive table.\"\n",
              "              style=\"display:none;\">\n",
              "        \n",
              "  <svg xmlns=\"http://www.w3.org/2000/svg\" height=\"24px\"viewBox=\"0 0 24 24\"\n",
              "       width=\"24px\">\n",
              "    <path d=\"M0 0h24v24H0V0z\" fill=\"none\"/>\n",
              "    <path d=\"M18.56 5.44l.94 2.06.94-2.06 2.06-.94-2.06-.94-.94-2.06-.94 2.06-2.06.94zm-11 1L8.5 8.5l.94-2.06 2.06-.94-2.06-.94L8.5 2.5l-.94 2.06-2.06.94zm10 10l.94 2.06.94-2.06 2.06-.94-2.06-.94-.94-2.06-.94 2.06-2.06.94z\"/><path d=\"M17.41 7.96l-1.37-1.37c-.4-.4-.92-.59-1.43-.59-.52 0-1.04.2-1.43.59L10.3 9.45l-7.72 7.72c-.78.78-.78 2.05 0 2.83L4 21.41c.39.39.9.59 1.41.59.51 0 1.02-.2 1.41-.59l7.78-7.78 2.81-2.81c.8-.78.8-2.07 0-2.86zM5.41 20L4 18.59l7.72-7.72 1.47 1.35L5.41 20z\"/>\n",
              "  </svg>\n",
              "      </button>\n",
              "      \n",
              "  <style>\n",
              "    .colab-df-container {\n",
              "      display:flex;\n",
              "      flex-wrap:wrap;\n",
              "      gap: 12px;\n",
              "    }\n",
              "\n",
              "    .colab-df-convert {\n",
              "      background-color: #E8F0FE;\n",
              "      border: none;\n",
              "      border-radius: 50%;\n",
              "      cursor: pointer;\n",
              "      display: none;\n",
              "      fill: #1967D2;\n",
              "      height: 32px;\n",
              "      padding: 0 0 0 0;\n",
              "      width: 32px;\n",
              "    }\n",
              "\n",
              "    .colab-df-convert:hover {\n",
              "      background-color: #E2EBFA;\n",
              "      box-shadow: 0px 1px 2px rgba(60, 64, 67, 0.3), 0px 1px 3px 1px rgba(60, 64, 67, 0.15);\n",
              "      fill: #174EA6;\n",
              "    }\n",
              "\n",
              "    [theme=dark] .colab-df-convert {\n",
              "      background-color: #3B4455;\n",
              "      fill: #D2E3FC;\n",
              "    }\n",
              "\n",
              "    [theme=dark] .colab-df-convert:hover {\n",
              "      background-color: #434B5C;\n",
              "      box-shadow: 0px 1px 3px 1px rgba(0, 0, 0, 0.15);\n",
              "      filter: drop-shadow(0px 1px 2px rgba(0, 0, 0, 0.3));\n",
              "      fill: #FFFFFF;\n",
              "    }\n",
              "  </style>\n",
              "\n",
              "      <script>\n",
              "        const buttonEl =\n",
              "          document.querySelector('#df-429d4487-0b78-4e03-bacc-531d54c2f3c8 button.colab-df-convert');\n",
              "        buttonEl.style.display =\n",
              "          google.colab.kernel.accessAllowed ? 'block' : 'none';\n",
              "\n",
              "        async function convertToInteractive(key) {\n",
              "          const element = document.querySelector('#df-429d4487-0b78-4e03-bacc-531d54c2f3c8');\n",
              "          const dataTable =\n",
              "            await google.colab.kernel.invokeFunction('convertToInteractive',\n",
              "                                                     [key], {});\n",
              "          if (!dataTable) return;\n",
              "\n",
              "          const docLinkHtml = 'Like what you see? Visit the ' +\n",
              "            '<a target=\"_blank\" href=https://colab.research.google.com/notebooks/data_table.ipynb>data table notebook</a>'\n",
              "            + ' to learn more about interactive tables.';\n",
              "          element.innerHTML = '';\n",
              "          dataTable['output_type'] = 'display_data';\n",
              "          await google.colab.output.renderOutput(dataTable, element);\n",
              "          const docLink = document.createElement('div');\n",
              "          docLink.innerHTML = docLinkHtml;\n",
              "          element.appendChild(docLink);\n",
              "        }\n",
              "      </script>\n",
              "    </div>\n",
              "  </div>\n",
              "  "
            ]
          },
          "metadata": {},
          "execution_count": 80
        }
      ]
    },
    {
      "cell_type": "code",
      "source": [
        "ae.tail()"
      ],
      "metadata": {
        "colab": {
          "base_uri": "https://localhost:8080/",
          "height": 423
        },
        "id": "r_DW3IHUCA6N",
        "outputId": "451b72de-675e-487e-e8f9-204ce6b10296"
      },
      "execution_count": null,
      "outputs": [
        {
          "output_type": "execute_result",
          "data": {
            "text/plain": [
              "             tipo                                          descricao  \\\n",
              "codigo                                                                 \n",
              "79117    ACIDENTE                                      INDETERMINADO   \n",
              "79119    ACIDENTE                                      INDETERMINADO   \n",
              "79123    ACIDENTE                                      INDETERMINADO   \n",
              "79203   INCIDENTE  FALHA OU MAU FUNCIONAMENTO DE SISTEMA / COMPON...   \n",
              "79227    ACIDENTE                                             OUTROS   \n",
              "\n",
              "                       cidade estado        data   ano      hora  \\\n",
              "codigo                                                             \n",
              "79117            ASSIS BRASIL     AC  2019-10-23  2019  15:00:00   \n",
              "79119   SÃO JOSÉ DO RIO CLARO     MT  2019-10-11  2019  10:00:00   \n",
              "79123                ANTONINA     PR  2019-09-21  2019  18:30:00   \n",
              "79203           FLORIANÓPOLIS     SC  2019-12-20  2019  16:37:00   \n",
              "79227          NOVO PROGRESSO     PA  2017-01-20  2017  16:24:00   \n",
              "\n",
              "       aeronave_liberada status_investigacao  aeronaves_envolvidas  \\\n",
              "codigo                                                               \n",
              "79117                SIM          FINALIZADA                     1   \n",
              "79119                SIM          FINALIZADA                     1   \n",
              "79123                SIM          FINALIZADA                     1   \n",
              "79203                SIM          FINALIZADA                     1   \n",
              "79227                SIM          FINALIZADA                     1   \n",
              "\n",
              "       ocorrencia_saida_pista  aeronave_tipo      aeronave_fabricante  \\\n",
              "codigo                                                                  \n",
              "79117                     NÃO  INDETERMINADO  FABRICANTE DESCONHECIDO   \n",
              "79119                     NÃO  INDETERMINADO  FABRICANTE DESCONHECIDO   \n",
              "79123                     NÃO          TRIKE            INDETERMINADO   \n",
              "79203                     NÃO          AVIÃO          CESSNA AIRCRAFT   \n",
              "79227                     NÃO          AVIÃO           PIPER AIRCRAFT   \n",
              "\n",
              "           motor_tipo aeronave_motor_quantidade  aeronave_assentos  \\\n",
              "codigo                                                               \n",
              "79117   INDETERMINADO             INDETERMINADO                  0   \n",
              "79119   INDETERMINADO             INDETERMINADO                  0   \n",
              "79123   INDETERMINADO                SEM TRAÇÃO                  0   \n",
              "79203          PISTÃO                 MONOMOTOR                  2   \n",
              "79227          PISTÃO                   BIMOTOR                  8   \n",
              "\n",
              "        aeronave_ano_fabricacao aeronave_pais_fabricante  \\\n",
              "codigo                                                     \n",
              "79117                         0                   BRASIL   \n",
              "79119                         0                   BRASIL   \n",
              "79123                         0                   BRASIL   \n",
              "79203                      1980                   BRASIL   \n",
              "79227                      1974                   BRASIL   \n",
              "\n",
              "       aeronave_fase_operacao aeronave_nivel_dano  \n",
              "codigo                                             \n",
              "79117           INDETERMINADO           DESTRUÍDA  \n",
              "79119           INDETERMINADO           DESTRUÍDA  \n",
              "79123               DECOLAGEM         SUBSTANCIAL  \n",
              "79203      CORRIDA APÓS POUSO                LEVE  \n",
              "79227                   POUSO         SUBSTANCIAL  "
            ],
            "text/html": [
              "\n",
              "  <div id=\"df-7f6d011e-de6c-477d-8289-12eb388e6f95\">\n",
              "    <div class=\"colab-df-container\">\n",
              "      <div>\n",
              "<style scoped>\n",
              "    .dataframe tbody tr th:only-of-type {\n",
              "        vertical-align: middle;\n",
              "    }\n",
              "\n",
              "    .dataframe tbody tr th {\n",
              "        vertical-align: top;\n",
              "    }\n",
              "\n",
              "    .dataframe thead th {\n",
              "        text-align: right;\n",
              "    }\n",
              "</style>\n",
              "<table border=\"1\" class=\"dataframe\">\n",
              "  <thead>\n",
              "    <tr style=\"text-align: right;\">\n",
              "      <th></th>\n",
              "      <th>tipo</th>\n",
              "      <th>descricao</th>\n",
              "      <th>cidade</th>\n",
              "      <th>estado</th>\n",
              "      <th>data</th>\n",
              "      <th>ano</th>\n",
              "      <th>hora</th>\n",
              "      <th>aeronave_liberada</th>\n",
              "      <th>status_investigacao</th>\n",
              "      <th>aeronaves_envolvidas</th>\n",
              "      <th>ocorrencia_saida_pista</th>\n",
              "      <th>aeronave_tipo</th>\n",
              "      <th>aeronave_fabricante</th>\n",
              "      <th>motor_tipo</th>\n",
              "      <th>aeronave_motor_quantidade</th>\n",
              "      <th>aeronave_assentos</th>\n",
              "      <th>aeronave_ano_fabricacao</th>\n",
              "      <th>aeronave_pais_fabricante</th>\n",
              "      <th>aeronave_fase_operacao</th>\n",
              "      <th>aeronave_nivel_dano</th>\n",
              "    </tr>\n",
              "    <tr>\n",
              "      <th>codigo</th>\n",
              "      <th></th>\n",
              "      <th></th>\n",
              "      <th></th>\n",
              "      <th></th>\n",
              "      <th></th>\n",
              "      <th></th>\n",
              "      <th></th>\n",
              "      <th></th>\n",
              "      <th></th>\n",
              "      <th></th>\n",
              "      <th></th>\n",
              "      <th></th>\n",
              "      <th></th>\n",
              "      <th></th>\n",
              "      <th></th>\n",
              "      <th></th>\n",
              "      <th></th>\n",
              "      <th></th>\n",
              "      <th></th>\n",
              "      <th></th>\n",
              "    </tr>\n",
              "  </thead>\n",
              "  <tbody>\n",
              "    <tr>\n",
              "      <th>79117</th>\n",
              "      <td>ACIDENTE</td>\n",
              "      <td>INDETERMINADO</td>\n",
              "      <td>ASSIS BRASIL</td>\n",
              "      <td>AC</td>\n",
              "      <td>2019-10-23</td>\n",
              "      <td>2019</td>\n",
              "      <td>15:00:00</td>\n",
              "      <td>SIM</td>\n",
              "      <td>FINALIZADA</td>\n",
              "      <td>1</td>\n",
              "      <td>NÃO</td>\n",
              "      <td>INDETERMINADO</td>\n",
              "      <td>FABRICANTE DESCONHECIDO</td>\n",
              "      <td>INDETERMINADO</td>\n",
              "      <td>INDETERMINADO</td>\n",
              "      <td>0</td>\n",
              "      <td>0</td>\n",
              "      <td>BRASIL</td>\n",
              "      <td>INDETERMINADO</td>\n",
              "      <td>DESTRUÍDA</td>\n",
              "    </tr>\n",
              "    <tr>\n",
              "      <th>79119</th>\n",
              "      <td>ACIDENTE</td>\n",
              "      <td>INDETERMINADO</td>\n",
              "      <td>SÃO JOSÉ DO RIO CLARO</td>\n",
              "      <td>MT</td>\n",
              "      <td>2019-10-11</td>\n",
              "      <td>2019</td>\n",
              "      <td>10:00:00</td>\n",
              "      <td>SIM</td>\n",
              "      <td>FINALIZADA</td>\n",
              "      <td>1</td>\n",
              "      <td>NÃO</td>\n",
              "      <td>INDETERMINADO</td>\n",
              "      <td>FABRICANTE DESCONHECIDO</td>\n",
              "      <td>INDETERMINADO</td>\n",
              "      <td>INDETERMINADO</td>\n",
              "      <td>0</td>\n",
              "      <td>0</td>\n",
              "      <td>BRASIL</td>\n",
              "      <td>INDETERMINADO</td>\n",
              "      <td>DESTRUÍDA</td>\n",
              "    </tr>\n",
              "    <tr>\n",
              "      <th>79123</th>\n",
              "      <td>ACIDENTE</td>\n",
              "      <td>INDETERMINADO</td>\n",
              "      <td>ANTONINA</td>\n",
              "      <td>PR</td>\n",
              "      <td>2019-09-21</td>\n",
              "      <td>2019</td>\n",
              "      <td>18:30:00</td>\n",
              "      <td>SIM</td>\n",
              "      <td>FINALIZADA</td>\n",
              "      <td>1</td>\n",
              "      <td>NÃO</td>\n",
              "      <td>TRIKE</td>\n",
              "      <td>INDETERMINADO</td>\n",
              "      <td>INDETERMINADO</td>\n",
              "      <td>SEM TRAÇÃO</td>\n",
              "      <td>0</td>\n",
              "      <td>0</td>\n",
              "      <td>BRASIL</td>\n",
              "      <td>DECOLAGEM</td>\n",
              "      <td>SUBSTANCIAL</td>\n",
              "    </tr>\n",
              "    <tr>\n",
              "      <th>79203</th>\n",
              "      <td>INCIDENTE</td>\n",
              "      <td>FALHA OU MAU FUNCIONAMENTO DE SISTEMA / COMPON...</td>\n",
              "      <td>FLORIANÓPOLIS</td>\n",
              "      <td>SC</td>\n",
              "      <td>2019-12-20</td>\n",
              "      <td>2019</td>\n",
              "      <td>16:37:00</td>\n",
              "      <td>SIM</td>\n",
              "      <td>FINALIZADA</td>\n",
              "      <td>1</td>\n",
              "      <td>NÃO</td>\n",
              "      <td>AVIÃO</td>\n",
              "      <td>CESSNA AIRCRAFT</td>\n",
              "      <td>PISTÃO</td>\n",
              "      <td>MONOMOTOR</td>\n",
              "      <td>2</td>\n",
              "      <td>1980</td>\n",
              "      <td>BRASIL</td>\n",
              "      <td>CORRIDA APÓS POUSO</td>\n",
              "      <td>LEVE</td>\n",
              "    </tr>\n",
              "    <tr>\n",
              "      <th>79227</th>\n",
              "      <td>ACIDENTE</td>\n",
              "      <td>OUTROS</td>\n",
              "      <td>NOVO PROGRESSO</td>\n",
              "      <td>PA</td>\n",
              "      <td>2017-01-20</td>\n",
              "      <td>2017</td>\n",
              "      <td>16:24:00</td>\n",
              "      <td>SIM</td>\n",
              "      <td>FINALIZADA</td>\n",
              "      <td>1</td>\n",
              "      <td>NÃO</td>\n",
              "      <td>AVIÃO</td>\n",
              "      <td>PIPER AIRCRAFT</td>\n",
              "      <td>PISTÃO</td>\n",
              "      <td>BIMOTOR</td>\n",
              "      <td>8</td>\n",
              "      <td>1974</td>\n",
              "      <td>BRASIL</td>\n",
              "      <td>POUSO</td>\n",
              "      <td>SUBSTANCIAL</td>\n",
              "    </tr>\n",
              "  </tbody>\n",
              "</table>\n",
              "</div>\n",
              "      <button class=\"colab-df-convert\" onclick=\"convertToInteractive('df-7f6d011e-de6c-477d-8289-12eb388e6f95')\"\n",
              "              title=\"Convert this dataframe to an interactive table.\"\n",
              "              style=\"display:none;\">\n",
              "        \n",
              "  <svg xmlns=\"http://www.w3.org/2000/svg\" height=\"24px\"viewBox=\"0 0 24 24\"\n",
              "       width=\"24px\">\n",
              "    <path d=\"M0 0h24v24H0V0z\" fill=\"none\"/>\n",
              "    <path d=\"M18.56 5.44l.94 2.06.94-2.06 2.06-.94-2.06-.94-.94-2.06-.94 2.06-2.06.94zm-11 1L8.5 8.5l.94-2.06 2.06-.94-2.06-.94L8.5 2.5l-.94 2.06-2.06.94zm10 10l.94 2.06.94-2.06 2.06-.94-2.06-.94-.94-2.06-.94 2.06-2.06.94z\"/><path d=\"M17.41 7.96l-1.37-1.37c-.4-.4-.92-.59-1.43-.59-.52 0-1.04.2-1.43.59L10.3 9.45l-7.72 7.72c-.78.78-.78 2.05 0 2.83L4 21.41c.39.39.9.59 1.41.59.51 0 1.02-.2 1.41-.59l7.78-7.78 2.81-2.81c.8-.78.8-2.07 0-2.86zM5.41 20L4 18.59l7.72-7.72 1.47 1.35L5.41 20z\"/>\n",
              "  </svg>\n",
              "      </button>\n",
              "      \n",
              "  <style>\n",
              "    .colab-df-container {\n",
              "      display:flex;\n",
              "      flex-wrap:wrap;\n",
              "      gap: 12px;\n",
              "    }\n",
              "\n",
              "    .colab-df-convert {\n",
              "      background-color: #E8F0FE;\n",
              "      border: none;\n",
              "      border-radius: 50%;\n",
              "      cursor: pointer;\n",
              "      display: none;\n",
              "      fill: #1967D2;\n",
              "      height: 32px;\n",
              "      padding: 0 0 0 0;\n",
              "      width: 32px;\n",
              "    }\n",
              "\n",
              "    .colab-df-convert:hover {\n",
              "      background-color: #E2EBFA;\n",
              "      box-shadow: 0px 1px 2px rgba(60, 64, 67, 0.3), 0px 1px 3px 1px rgba(60, 64, 67, 0.15);\n",
              "      fill: #174EA6;\n",
              "    }\n",
              "\n",
              "    [theme=dark] .colab-df-convert {\n",
              "      background-color: #3B4455;\n",
              "      fill: #D2E3FC;\n",
              "    }\n",
              "\n",
              "    [theme=dark] .colab-df-convert:hover {\n",
              "      background-color: #434B5C;\n",
              "      box-shadow: 0px 1px 3px 1px rgba(0, 0, 0, 0.15);\n",
              "      filter: drop-shadow(0px 1px 2px rgba(0, 0, 0, 0.3));\n",
              "      fill: #FFFFFF;\n",
              "    }\n",
              "  </style>\n",
              "\n",
              "      <script>\n",
              "        const buttonEl =\n",
              "          document.querySelector('#df-7f6d011e-de6c-477d-8289-12eb388e6f95 button.colab-df-convert');\n",
              "        buttonEl.style.display =\n",
              "          google.colab.kernel.accessAllowed ? 'block' : 'none';\n",
              "\n",
              "        async function convertToInteractive(key) {\n",
              "          const element = document.querySelector('#df-7f6d011e-de6c-477d-8289-12eb388e6f95');\n",
              "          const dataTable =\n",
              "            await google.colab.kernel.invokeFunction('convertToInteractive',\n",
              "                                                     [key], {});\n",
              "          if (!dataTable) return;\n",
              "\n",
              "          const docLinkHtml = 'Like what you see? Visit the ' +\n",
              "            '<a target=\"_blank\" href=https://colab.research.google.com/notebooks/data_table.ipynb>data table notebook</a>'\n",
              "            + ' to learn more about interactive tables.';\n",
              "          element.innerHTML = '';\n",
              "          dataTable['output_type'] = 'display_data';\n",
              "          await google.colab.output.renderOutput(dataTable, element);\n",
              "          const docLink = document.createElement('div');\n",
              "          docLink.innerHTML = docLinkHtml;\n",
              "          element.appendChild(docLink);\n",
              "        }\n",
              "      </script>\n",
              "    </div>\n",
              "  </div>\n",
              "  "
            ]
          },
          "metadata": {},
          "execution_count": 81
        }
      ]
    },
    {
      "cell_type": "markdown",
      "source": [
        "# **Analise de investigações**"
      ],
      "metadata": {
        "id": "HcCrOXuJMi3q"
      }
    },
    {
      "cell_type": "code",
      "source": [
        "#acidentes com investigação ativa/finalizada\n",
        "\n",
        "#definindo o tipo, cor e tamanho do grafico\n",
        "ae['status_investigacao'].value_counts().plot(kind='pie',autopct='%1.1f%%' ,label = '', title=\"investigações dos acidentes\" ,figsize=(8, 5))\n",
        "\n",
        "#mostra o grafico\n",
        "plt.legend(bbox_to_anchor = (1.40, 1.0)) \n",
        "plt.show()"
      ],
      "metadata": {
        "id": "bscHJM-XD21S",
        "colab": {
          "base_uri": "https://localhost:8080/",
          "height": 319
        },
        "outputId": "5d920991-100f-40cd-c168-a7f2d56a3e87"
      },
      "execution_count": null,
      "outputs": [
        {
          "output_type": "display_data",
          "data": {
            "text/plain": [
              "<Figure size 576x360 with 1 Axes>"
            ],
            "image/png": "[encoded data removed]"
          },
          "metadata": {}
        }
      ]
    },
    {
      "cell_type": "markdown",
      "source": [
        "O gráfico nos mostra que as investigações da maiorias dos incidentes já foram fizalizadas (77,6%) e ja sabem o motivo que resultou o incidente. \n",
        "\n",
        "Já uma pequena parte dos incidentes ainda não foram solucionados (22,5%). Sendo que 15,6% ainda está ativa e buscando a solução. E 6,9% não sabemos se realmente foi descoberto o motivo do incidente."
      ],
      "metadata": {
        "id": "oXDZ9K_HEh5Q"
      }
    },
    {
      "cell_type": "markdown",
      "source": [
        "#  **Liberação de Aeronaves**"
      ],
      "metadata": {
        "id": "0RajcCtxBC16"
      }
    },
    {
      "cell_type": "code",
      "source": [
        "# aeronaves liberadas durante o acidente\n",
        "\n",
        "#definindo o tipo, cor e tamanho do grafico\n",
        "ae['aeronave_liberada'].value_counts().plot(kind='pie',autopct='%1.1f%%' ,label = '', title=\"aeronaves liberadas \" ,figsize=(6, 6))\n",
        "\n",
        "#mostra o grafico\n",
        "plt.legend(bbox_to_anchor = (0.8, 0.9))\n",
        "plt.show()"
      ],
      "metadata": {
        "id": "G7SHmCpOfqtF",
        "colab": {
          "base_uri": "https://localhost:8080/",
          "height": 377
        },
        "outputId": "f9049fae-e396-4813-dc9b-1b62c8612cfe"
      },
      "execution_count": null,
      "outputs": [
        {
          "output_type": "display_data",
          "data": {
            "text/plain": [
              "<Figure size 432x432 with 1 Axes>"
            ],
            "image/png": "[encoded data removed]"
          },
          "metadata": {}
        }
      ]
    },
    {
      "cell_type": "markdown",
      "source": [
        "Observando o gráfico a cima, podemos observar que 51,3% das aeronaves com incidentes, tiveram seus voos liberados. Sendo que 46,1% é indeterminado, ou seja, não sabemos ainda ao certo se realmente estavam prontas para decolar. \n",
        "E apenas 2,6% não foram liberadas para voo."
      ],
      "metadata": {
        "id": "sI5T8gpPCXLI"
      }
    },
    {
      "cell_type": "markdown",
      "source": [
        "# **Ocorrências das Saídas de Pista**"
      ],
      "metadata": {
        "id": "ctvEknvBELFg"
      }
    },
    {
      "cell_type": "code",
      "source": [
        "#ocorrencia das saídas de pista\n",
        "\n",
        "#definindo o tipo, cor e tamanho do grafico\n",
        "ae['ocorrencia_saida_pista'].value_counts().plot(kind='pie',autopct='%1.1f%%' ,label = '', title=\"ocorrência de saída de pista \" ,figsize=(6, 6))\n",
        "\n",
        "#mostra o grafico\n",
        "plt.legend(bbox_to_anchor = (0.8, 0.9))\n",
        "plt.show()"
      ],
      "metadata": {
        "colab": {
          "base_uri": "https://localhost:8080/",
          "height": 373
        },
        "id": "2cIAyIZ4lt8U",
        "outputId": "75875a06-79ea-4cf1-a078-a340095bbc1e"
      },
      "execution_count": null,
      "outputs": [
        {
          "output_type": "display_data",
          "data": {
            "text/plain": [
              "<Figure size 432x432 with 1 Axes>"
            ],
            "image/png": "[encoded data removed]"
          },
          "metadata": {}
        }
      ]
    },
    {
      "cell_type": "markdown",
      "source": [
        "Conforme o gráfico, apenas 8,7% das ocorrências foram feitas ainda na saida da pista de voo. Concluindo que 91,3% dos incidentes ocorreram enquanto as aeronaves estavam no ar."
      ],
      "metadata": {
        "id": "6PyID9diD0BI"
      }
    },
    {
      "cell_type": "markdown",
      "source": [
        "# **Estados com mais Acidentes**"
      ],
      "metadata": {
        "id": "gXI4cSleGN5I"
      }
    },
    {
      "cell_type": "code",
      "source": [
        "est = Counter(ae['estado'])\n",
        "fase_est = sorted(est, key = est.get, reverse = True)\n",
        "contador_est = sorted(list(est.values()), reverse = True)"
      ],
      "metadata": {
        "id": "GnCeu4BY3AY4"
      },
      "execution_count": null,
      "outputs": []
    },
    {
      "cell_type": "code",
      "source": [
        "#verificando qual estado tem mais acidentes\n",
        "#ae.estado.hist(bins = 70, color = \"royalblue\")\n",
        "\n",
        "#organizando em ordem decrescente\n",
        "ae['estado'].value_counts().plot(kind = 'bar', figsize=(10, 5), fontsize = 10, color=['y']);\n",
        "#sns.countplot(data=ae, x='estado', order=ae['estado'].value_counts().index)\n",
        "\n",
        "#titulos principais e dos eixos\n",
        "plt.xlabel(\"Estados\")\n",
        "plt.ylabel(\"Número de aviões\")\n",
        "plt.title(\"Estados com mais acidentes\")\n",
        "\n",
        "#tamanho do grafico mais a rotação do eixo X(titulos)\n",
        "plt.gcf().set_size_inches(9, 6)\n",
        "plt.xticks(rotation=45)\n",
        "\n",
        "#mediana, média e desvio padrão do dados analisado\n",
        "plt.text(20, 1200, 'Mediana: %d'%(np.median(np.array(contador_est))))\n",
        "plt.text(20, 1100, 'Média: %d'%(np.mean(np.array(contador_est))))\n",
        "plt.text(20, 1000, 'Desvio padrão: %.2f'%(static.stdev(contador_est)))\n",
        " \n",
        "#mostra o grafico\n",
        "plt.show()"
      ],
      "metadata": {
        "colab": {
          "base_uri": "https://localhost:8080/",
          "height": 413
        },
        "id": "hMRF6Zn7JSCc",
        "outputId": "a1bf3481-740e-4c2f-d7f8-f26f15c92b6b"
      },
      "execution_count": null,
      "outputs": [
        {
          "output_type": "display_data",
          "data": {
            "text/plain": [
              "<Figure size 648x432 with 1 Axes>"
            ],
            "image/png": "[encoded data removed]"
          },
          "metadata": {
            "needs_background": "light"
          }
        }
      ]
    },
    {
      "cell_type": "markdown",
      "source": [
        "Podemos observar que o estado de São Paulo, é o estado com mais indice de acidentes diparado. Chegando a ter mais acidentes que os outros dois seguintes estados juntos (MG e RJ).\n",
        "\n",
        "Observamso também que os 3 primeiros estados pertecem a região sudeste do Brasil, sendo assim a região onde se mais concentra incidentes aéreos."
      ],
      "metadata": {
        "id": "wTtS7daGGVSn"
      }
    },
    {
      "cell_type": "markdown",
      "source": [
        "# **Ocorrências por Ano**"
      ],
      "metadata": {
        "id": "wetkuGajHzbP"
      }
    },
    {
      "cell_type": "code",
      "source": [
        "#ocorrencias por ano\n",
        "\n",
        "#grafico em histograma\n",
        "ae.ano.hist(bins = 60, color = \"#f7d38c\")\n",
        "#ae['hora'].value_counts().plot(kind = 'bar', figsize=(10, 5), fontsize = 10, color=['y']);\n",
        "#sns.countplot(data=ae, x='estado', order=ae['estado'].value_counts().index)\n",
        "\n",
        "#titulos principais e dos eixos\n",
        "plt.xlabel(\"ano\")\n",
        "plt.ylabel(\"Número de ocorrencias\")\n",
        "plt.title(\"ocorrencias por ano\")\n",
        "\n",
        "#tamanho do grafico\n",
        "plt.gcf().set_size_inches(8, 5)\n",
        "plt.grid(False)\n",
        "#plt.style.use(\"blue\")\n",
        "plt.show()"
      ],
      "metadata": {
        "id": "SfajWR3Ff72Q",
        "colab": {
          "base_uri": "https://localhost:8080/",
          "height": 350
        },
        "outputId": "5d144662-16f3-4c7f-e778-f15394ac07b3"
      },
      "execution_count": null,
      "outputs": [
        {
          "output_type": "display_data",
          "data": {
            "text/plain": [
              "<Figure size 576x360 with 1 Axes>"
            ],
            "image/png": "[encoded data removed]"
          },
          "metadata": {
            "needs_background": "light"
          }
        }
      ]
    },
    {
      "cell_type": "markdown",
      "source": [
        "Análisando o gráfico, o ano de 2013 foi o ano com maior registro incidentes aéreos. E o ano de 2016 o ano com menos registro de incidentes. \n",
        "\n",
        "O gráfico nos mostra que o indice de incidentes subiu de 2010 a 2013. Tendo de 2014 a 2016 um redução incidentes bastante considerável. Mas no entanto de 2017 em diante voltou a subir o incide de incidentes."
      ],
      "metadata": {
        "id": "G722mlW3H5Du"
      }
    },
    {
      "cell_type": "markdown",
      "source": [
        "## **Fabricação de Aeronaves ao longo dos anos**"
      ],
      "metadata": {
        "id": "8j78xZxbN7Px"
      }
    },
    {
      "cell_type": "code",
      "source": [
        "ae.sort_values('aeronave_ano_fabricacao', ascending=False)"
      ],
      "metadata": {
        "id": "8Pl7_bFN-bDb"
      },
      "execution_count": null,
      "outputs": []
    },
    {
      "cell_type": "code",
      "source": [
        "#ano de fabricação das naves\n",
        "\n",
        "#organizando em ordem decrescente\n",
        "#ae['aeronave_ano_fabricacao'].value_counts().plot(kind = 'bar', figsize=(10, 5), fontsize = 10, color=['purple']);\n",
        "#ids = [x for x in range(len(aeronave_ano_fabricacao))]\n",
        "#sns.countplot(data=ae, x='aeronave_ano_fabricacao', order=ae['aeronave_ano_fabricacao'].value_counts().index)\n",
        "sns.countplot(data=ae, x='aeronave_ano_fabricacao')\n",
        "\n",
        "#titulos principais e dos eixos\n",
        "plt.xlabel(\"anos que tiveram mais fabricação de aeronave\")\n",
        "plt.ylabel(\"Número de aviões\")\n",
        "plt.title(\"ano de fabricação\")\n",
        "\n",
        "#tamanho do grafico\n",
        "plt.gcf().set_size_inches(37, 15)\n",
        "\n",
        "\n",
        "plt.show()"
      ],
      "metadata": {
        "colab": {
          "base_uri": "https://localhost:8080/",
          "height": 529
        },
        "id": "vivo4UD6hAEl",
        "outputId": "db953e3e-6eb3-41e6-ef3a-6f166ea09a13"
      },
      "execution_count": null,
      "outputs": [
        {
          "output_type": "display_data",
          "data": {
            "text/plain": [
              "<Figure size 2664x1080 with 1 Axes>"
            ],
            "image/png": "[encoded data removed]"
          },
          "metadata": {
            "needs_background": "light"
          }
        }
      ]
    },
    {
      "cell_type": "markdown",
      "source": [
        "No gráfico acima é possível visualizar a evolução aos longo dos anos em relação à fabricação de aeronaves. Temos do ano de 1945 uma fabricação mínima e conforme se passam os anos tivemos um aumento considerável, até o ano de 1972 que começa a ter uma fabricação em massa atingindo um pico em 1980 a partir disso uma produção regular até 2006 que começa a aumentar a produção por 6 anos a partir disso o numero de produção decai consideravelmente. podemos perceber que muitos aviões não possui registro do seu ano de produção como também representa boa parte da fabricação dos mesmos."
      ],
      "metadata": {
        "id": "vdsu6XXLOm4Y"
      }
    },
    {
      "cell_type": "markdown",
      "source": [
        "# **Motores dos Aviões**"
      ],
      "metadata": {
        "id": "nQ7UD-wkJUoG"
      }
    },
    {
      "cell_type": "code",
      "source": [
        "amq = Counter(ae['aeronave_motor_quantidade'])\n",
        "fase_amq = sorted(amq, key = amq.get, reverse = True)\n",
        "contador_amq = sorted(list(amq.values()), reverse = True)"
      ],
      "metadata": {
        "id": "dSaHfedxGImb"
      },
      "execution_count": null,
      "outputs": []
    },
    {
      "cell_type": "code",
      "source": [
        "# motores das aeronaves\n",
        "\n",
        "#organizando em ordem decrescente\n",
        "ae['aeronave_motor_quantidade'].value_counts().plot(kind = 'barh', figsize=(10, 5), fontsize = 10, color=['orange']);\n",
        "#sns.countplot(data=ae, x='estado', order=ae['estado'].value_counts().index)\n",
        "\n",
        "#titulos principais e dos eixos\n",
        "plt.xlabel(\"quantidade\")\n",
        "plt.ylabel(\"motores\")\n",
        "plt.title(\"motores dos aviões\")\n",
        "\n",
        "plt.text(2000, 5, 'Mediana: %d'%(np.median(np.array(contador_amq ))))\n",
        "plt.text(2000, 4.5, 'Média: %d'%(np.mean(np.array(contador_amq ))))\n",
        "plt.text(2000, 4, 'Desvio padrão: %.2f'%(static.stdev(contador_amq )))\n",
        "\n",
        "#tamanho do grafico\n",
        "plt.gcf().set_size_inches(10, 7)\n",
        "#plt.style.use(\"blue\")\n",
        "plt.show()"
      ],
      "metadata": {
        "colab": {
          "base_uri": "https://localhost:8080/",
          "height": 458
        },
        "id": "pHSw43P_j-By",
        "outputId": "0cab19f8-7b35-441a-9f59-83a9a5d8beb0"
      },
      "execution_count": null,
      "outputs": [
        {
          "output_type": "display_data",
          "data": {
            "text/plain": [
              "<Figure size 720x504 with 1 Axes>"
            ],
            "image/png": "[encoded data removed]"
          },
          "metadata": {
            "needs_background": "light"
          }
        }
      ]
    },
    {
      "cell_type": "markdown",
      "source": [
        "O maior indice de incidentes foi composta por aeronaves com Monomotor, passando as 2500 aeronaves com esse motor. Não muito atrás aeronaves com Bimotores, ultrapassando as 2000 aeronaves com esse tipo de motor."
      ],
      "metadata": {
        "id": "nZwdGBWAJcV-"
      }
    },
    {
      "cell_type": "markdown",
      "source": [
        "# **Países Fabricantes**"
      ],
      "metadata": {
        "id": "8f9CXZIRPxWI"
      }
    },
    {
      "cell_type": "code",
      "source": [
        "pf = Counter(ae['aeronave_pais_fabricante'])\n",
        "fase_pf = sorted(pf, key = pf.get, reverse = True)\n",
        "contador_pf = sorted(list(pf.values()), reverse = True)"
      ],
      "metadata": {
        "id": "hLtbnQ8HJxTM"
      },
      "execution_count": null,
      "outputs": []
    },
    {
      "cell_type": "code",
      "source": [
        "# países fabricantes\n",
        "\n",
        "#organizando em ordem decrescente\n",
        "ae['aeronave_pais_fabricante'].value_counts().plot(kind = 'bar', figsize=(10, 5), fontsize = 10, color=['#f73e8c']);\n",
        "\n",
        "#titulos principais e dos eixos\n",
        "plt.xlabel(\"país fabricante\")\n",
        "plt.ylabel(\"Número de aviões\")\n",
        "plt.title(\"países fabricantes das aeronaves\")\n",
        "\n",
        "plt.text(15, 5000, 'Mediana: %d'%(np.median(np.array(contador_pf ))))\n",
        "plt.text(15, 4700, 'Média: %d'%(np.mean(np.array(contador_pf ))))\n",
        "plt.text(15, 4400, 'Desvio padrão: %.2f'%(static.stdev(contador_pf )))\n",
        "\n",
        "#tamanho do grafico \n",
        "plt.gcf().set_size_inches(13, 6)\n",
        "plt.xticks(rotation=45)\n",
        "plt.show()"
      ],
      "metadata": {
        "colab": {
          "base_uri": "https://localhost:8080/",
          "height": 470
        },
        "id": "VRSpIhohqCmj",
        "outputId": "8e89da8f-4cc0-4812-aeb9-8fe0a7ecae89"
      },
      "execution_count": null,
      "outputs": [
        {
          "output_type": "display_data",
          "data": {
            "text/plain": [
              "<Figure size 936x432 with 1 Axes>"
            ],
            "image/png": "[encoded data removed]"
          },
          "metadata": {
            "needs_background": "light"
          }
        }
      ]
    },
    {
      "cell_type": "markdown",
      "source": [
        "Neste gráfico citamos vários países, mas quem lidera a fabricação é o Brasil, os Estados Unidos fica em segundo lugar, porém a diferença nas fabricações é gigantesca tendo um número bem abaixo de aeronaves fabricadas."
      ],
      "metadata": {
        "id": "FJ85naxeP8mx"
      }
    },
    {
      "cell_type": "code",
      "source": [
        "#contagem de valores\n",
        "af = Counter(ae['aeronave_fabricante'])\n",
        "fase_af = sorted(af, key = af.get, reverse = True)\n",
        "contador_af = sorted(list(af.values()), reverse = True)"
      ],
      "metadata": {
        "id": "RN-R8MFD4btA"
      },
      "execution_count": null,
      "outputs": []
    },
    {
      "cell_type": "markdown",
      "source": [
        "# **Fabricante das Aeronaves**"
      ],
      "metadata": {
        "id": "EmMkrt490Ogk"
      }
    },
    {
      "cell_type": "code",
      "source": [
        "# fabricante das aeronaves\n",
        "\n",
        "#organizando em ordem decrescente\n",
        "#ae['aeronave_fabricante'].value_counts().plot(kind = 'bar', figsize=(10, 5), fontsize = 10, color=['G']);\n",
        "#sns.countplot(data=ae, y='aeronave_fabricante', order=ae['aeronave_fabricante'][0:10].value_counts().index)\n",
        "#organizando os eixos x e y do grafico junto com a cor\n",
        "x=fase_af[:10]\n",
        "y=contador_af[:10]\n",
        "plt.barh(x, y, color='pink')\n",
        "\n",
        "#titulos principais e dos eixos\n",
        "plt.xlabel(\"fabricante\")\n",
        "plt.ylabel(\"Número de aviões\")\n",
        "plt.title(\"10 dos fabricantes das aeronaves\")\n",
        "\n",
        "plt.text(650, 9.5, 'Mediana: %.2f'%(np.median(np.array(contador_af))))\n",
        "plt.text(650, 9, 'Média: %.2f'%(np.mean(np.array(contador_af))))\n",
        "plt.text(650, 8.5, 'Desvio padrão: %.2f'%(static.stdev(contador_af)))\n",
        "\n",
        "#tamanho do grafico\n",
        "plt.gcf().set_size_inches(11, 8)\n",
        "plt.show()"
      ],
      "metadata": {
        "id": "b7Wd1jryu0RS",
        "colab": {
          "base_uri": "https://localhost:8080/",
          "height": 513
        },
        "outputId": "b3c2b737-f935-43f1-8f10-73bde8f91f54"
      },
      "execution_count": null,
      "outputs": [
        {
          "output_type": "display_data",
          "data": {
            "text/plain": [
              "<Figure size 792x576 with 1 Axes>"
            ],
            "image/png": "[encoded data removed]"
          },
          "metadata": {
            "needs_background": "light"
          }
        }
      ]
    },
    {
      "cell_type": "markdown",
      "source": [
        "aqui mostra 10 dos maiores fabricantes de aeronaves, sendo um deles liderado por cessna aircraft, provavelmente por ser uma das empresas que mais produzem aviões particulares ou militares. Seguido pela embraer, que é composta pela neiva industria, que produz aviões comerciais."
      ],
      "metadata": {
        "id": "LpIQTek5tOgK"
      }
    },
    {
      "cell_type": "markdown",
      "source": [
        "# **Tipos de Motores Usados**"
      ],
      "metadata": {
        "id": "hR-RTk4s0eOQ"
      }
    },
    {
      "cell_type": "markdown",
      "source": [
        ""
      ],
      "metadata": {
        "id": "KGk1XW8x0eLU"
      }
    },
    {
      "cell_type": "code",
      "source": [
        "mt = Counter(ae['motor_tipo'])\n",
        "fase_mt = sorted(mt, key = mt.get, reverse = True)\n",
        "contador_mt = sorted(list(mt.values()), reverse = True)"
      ],
      "metadata": {
        "id": "nLY7JRe9L7oE"
      },
      "execution_count": null,
      "outputs": []
    },
    {
      "cell_type": "code",
      "source": [
        "\n",
        "#organizando em ordem decrescente\n",
        "ae['motor_tipo'].value_counts().plot(kind = 'bar', figsize=(10, 5), fontsize = 10, color=['#f73e8c']);\n",
        "\n",
        "#titulos principais e dos eixos\n",
        "plt.xlabel(\"tipo\")\n",
        "plt.ylabel(\"Número de aviões\")\n",
        "plt.title(\"tipos de motores usados\")\n",
        "\n",
        "plt.text(4.6, 2900, 'Mediana: %.2f'%(np.median(np.array(contador_mt))))\n",
        "plt.text(4.6, 2750, 'Média: %.2f'%(np.mean(np.array(contador_mt))))\n",
        "plt.text(4.6, 2600, 'Desvio padrão: %.2f'%(static.stdev(contador_mt)))\n",
        "\n",
        "#tamanho do grafico mais a rotação do eixo X(titulos)\n",
        "plt.gcf().set_size_inches(15, 6)\n",
        "plt.xticks(rotation=45)\n",
        "plt.show()"
      ],
      "metadata": {
        "colab": {
          "base_uri": "https://localhost:8080/",
          "height": 461
        },
        "id": "yiiLpLnEjlGF",
        "outputId": "1ef8fcf3-1e7c-4b8a-cd96-a4c9e3e34dc0"
      },
      "execution_count": null,
      "outputs": [
        {
          "output_type": "display_data",
          "data": {
            "text/plain": [
              "<Figure size 1080x432 with 1 Axes>"
            ],
            "image/png": "[encoded data removed]"
          },
          "metadata": {
            "needs_background": "light"
          }
        }
      ]
    },
    {
      "cell_type": "markdown",
      "source": [
        "Todos os motores devem obedecer às exigências gerais de eficiência, economia e\n",
        "confiabilidade. Além de econômico quanto ao consumo de combustível, um motor deve ser\n",
        "econômico quanto ao custo de sua obtenção original e quanto ao custo de manutenção, e\n",
        "tem que atender às exigências rigorosas da razão de eficiência e baixo peso de unidade por\n",
        "potência. "
      ],
      "metadata": {
        "id": "BiEc3IaERGJH"
      }
    },
    {
      "cell_type": "markdown",
      "source": [
        "# **Aeronaves Envolvidas**"
      ],
      "metadata": {
        "id": "6na4pAxn1Y1a"
      }
    },
    {
      "cell_type": "code",
      "source": [
        "\n",
        "#organizando em ordem decrescente\n",
        "ae['aeronaves_envolvidas'].value_counts().plot(kind = 'bar', figsize=(10, 5), fontsize = 10, color=['B']);\n",
        "\n",
        "#titulos principais e dos eixos\n",
        "plt.xlabel(\"numeros das aeronaves envolvidas\")\n",
        "plt.ylabel(\"Número de aviões\")\n",
        "plt.title(\"aeronaves envolvidas\")\n",
        "\n",
        "#tamanho do grafico mais a rotação do eixo X(titulos)\n",
        "plt.gcf().set_size_inches(13, 6)\n",
        "plt.xticks(rotation=45)\n",
        "plt.show()"
      ],
      "metadata": {
        "colab": {
          "base_uri": "https://localhost:8080/",
          "height": 461
        },
        "id": "MJwvOe_XvF6O",
        "outputId": "563acc88-63f4-43c6-97f2-fd84633bf384"
      },
      "execution_count": null,
      "outputs": [
        {
          "output_type": "stream",
          "name": "stderr",
          "text": [
            "/usr/local/lib/python3.7/dist-packages/pandas/plotting/_matplotlib/style.py:271: MatplotlibDeprecationWarning: Support for uppercase single-letter colors is deprecated since Matplotlib 3.1 and will be removed in 3.3; please use lowercase instead.\n",
            "  conv.to_rgba(color)\n"
          ]
        },
        {
          "output_type": "display_data",
          "data": {
            "text/plain": [
              "<Figure size 936x432 with 1 Axes>"
            ],
            "image/png": "[encoded data removed]"
          },
          "metadata": {
            "needs_background": "light"
          }
        }
      ]
    },
    {
      "cell_type": "markdown",
      "source": [
        "Nesse grafico é possivel observar que as taxas de acidentes com mais de uma aeronave e são bem menores se comparado com a taxa de acidentes onde somente se tem uma aeronave envolvida"
      ],
      "metadata": {
        "id": "JpTbiC80xHkl"
      }
    },
    {
      "cell_type": "markdown",
      "source": [
        "# **Numero de Assentos**"
      ],
      "metadata": {
        "id": "4Gte2-UZ1jRy"
      }
    },
    {
      "cell_type": "code",
      "source": [
        "#assentos\n",
        "\n",
        "#ae['aeronave_assentos'].value_counts().plot(kind = 'bar', figsize=(10, 5), fontsize = 10, color=['B']);\n",
        "\n",
        "# grafico em histograma\n",
        "ae.aeronave_assentos.hist(bins = 50, color = \"#f7d38c\")\n",
        "\n",
        "#titulos principais e dos eixos\n",
        "plt.xlabel(\"assentos\")\n",
        "plt.ylabel(\"Número de aviões\")\n",
        "plt.title(\"numero de assentos\")\n",
        "\n",
        "#tamanho do grafico \n",
        "plt.gcf().set_size_inches(15, 8)\n",
        "\n",
        "plt.show()"
      ],
      "metadata": {
        "colab": {
          "base_uri": "https://localhost:8080/",
          "height": 513
        },
        "id": "zaXJELL2wZDP",
        "outputId": "ce2c369b-0b60-45bd-9516-15a40eb9e7ae"
      },
      "execution_count": null,
      "outputs": [
        {
          "output_type": "display_data",
          "data": {
            "text/plain": [
              "<Figure size 1080x576 with 1 Axes>"
            ],
            "image/png": "[encoded data removed]"
          },
          "metadata": {
            "needs_background": "light"
          }
        }
      ]
    },
    {
      "cell_type": "markdown",
      "source": [
        "Nota-se que a maioria dos acidentes são por aviões que tem poucos assentos, um indice que indica isso é que 46% dos acidentes ocorridos no brasil são por aviões de segmento particular"
      ],
      "metadata": {
        "id": "dnyym76wnlOT"
      }
    },
    {
      "cell_type": "markdown",
      "source": [
        "# **Conclusão Final**"
      ],
      "metadata": {
        "id": "MqznPs99oPyb"
      }
    },
    {
      "cell_type": "markdown",
      "source": [
        "\n",
        "***Conclusão Final***\n",
        "\n",
        "\n",
        "  Esta pesquisa teve como objetivo analisar os fatores que são\n",
        "determinantes para que ocasionem acidentes aeronáuticos e que,\n",
        "consequentemente, afetam a segurança de voo. A metodologia usada para atingir tal objetivo foi a pesquisa descritiva, baseando-se em dados de estatísticas,\n",
        "monografias entre outros. \n",
        "\n",
        "  Vimos que a segurança de voo é essencial para todos os envolvidos da\n",
        "aviação, pois se trata de uma vida alheia correndo risco. Em razão disso, a empresa tem que que redobrar sua atenção quanto à manutenção e investir em melhorias contínuas e novas tecnologias para se evitar problemas durante o voo, pouso ou decolagem.\n",
        "\n",
        "  A ausência de gastos com a manutenção acarreta um custo muito maior\n",
        "para a empresa aérea do que o gasto que eventualmente teria com a ocorrência de\n",
        "um acidente. Colocando na balança, vale muito mais gastar com a manutenção,\n",
        "propiciando melhores condições aos passageiros, do que com a reparação dos danos. \n",
        "\n",
        "  O projeto teve em base apresentar dados de forma estatistica sobre os acidentes de aeronaves no Brasil, com analises graficas e conclusões a partir dos mesmos.\n",
        "partes das analises feitas foi a partir de seus motores, o ano que teve mais acidentes e a região mais afetada.\n",
        "\n",
        "  Uma das analises feitas foi que aviões particulares, que possuem poucos assentos, são os que mais tem ocorrencia de acidente em comparação a aviões comerciais e muitas dessas falhas se devem ao monotor que mais apresenta falha, sendo parte responsaveis por uns dos fabricantes a Cessna Aircraft.\n",
        "\n",
        "  Já o fator operacional se relaciona com o desempenho do homem nas\n",
        "atividades relacionadas com o voo.\n",
        "\n",
        "  Por fim, o principal fator contributivo de aproximadamente 80% dos\n",
        "acidentes aéreos é o fator humano, que corresponde a uma má decisão ou\n",
        "julgamento, até mesmo um simples erro. \n",
        "\n",
        "  Analisando esse fator e sabendo que o ser\n",
        "humano não é perfeito, cometendo falhas, é um fator que contribui muito para os\n",
        "acidentes. Em razão da imperfeição do homem, mesmo que haja inúmeras barreiras\n",
        "para evitar que aconteça alguma falha, ainda há chance de se ocorrer um acidente.\n",
        "\n",
        "  Conclui-se que é uma missão muito difícil acabar com os acidentes\n",
        "aeronáuticos, pois sua causa é um conjunto de fatores que se complementam entre\n",
        "si, não podendo ser analisada isoladamente.\n",
        "\n",
        "  Pode-se sugerir para estudos futuros pesquisas mais aprofundadas sobre\n",
        "o uso da tecnologia adequada voltada para a segurança de voo, e assim mitigar os\n",
        "acidentes na aviação. \n",
        "\n",
        "\n",
        "\n",
        "\n",
        "\n",
        "\n"
      ],
      "metadata": {
        "id": "I12bkE9PohIT"
      }
    },
    {
      "cell_type": "markdown",
      "source": [
        "# **Referências**"
      ],
      "metadata": {
        "id": "Slh5dXOyqMoD"
      }
    },
    {
      "cell_type": "markdown",
      "source": [
        " A**cidentes-com-avioes-pequenos -**\n",
        " www.jornalopcao.com.br/reportagens/por-que-acidentes-com-avioes-pequenos-sao-maioria-364152/\n",
        "\n",
        "\n",
        "\n",
        "Avião com 133 passageiros sofre acidente na china - https://g1.globo.com/mundo/noticia/2022/03/21/aviao-com-133-passageiros-sofre-acidente-na-china.ghtml\n",
        "\n",
        "\n",
        "\n",
        "**Brasil teve 111 acidentes com aeronaves de pequeno porte em 2021 -**\n",
        "https://www.poder360.com.br/brasil/brasil-teve-111-acidentes-com-aeronaves-de-pequeno-porte-em-2021/\n",
        "\n",
        "\n",
        "\n",
        "**Brasil fecha 2012 com novo recorde de acidentes aereos -** \n",
        "https://g1.globo.com/brasil/noticia/2013/01/brasil-fecha-2012-com-novo-recorde-de-acidentes-aereos-aponta-cenipa.html\n",
        "\n",
        "\n",
        "\n",
        "**Pilotos causaram maioria de acidentes aereos -** \n",
        "https://g1.globo.com/am/amazonas/noticia/2013/04/em-2012-pilotos-causaram-maioria-de-acidentes-aereos-no-am-diz-seripa.html"
      ],
      "metadata": {
        "id": "zk15Ddxdw4QK"
      }
    }
  ]
}